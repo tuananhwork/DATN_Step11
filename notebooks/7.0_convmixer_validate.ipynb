{
 "cells": [
  {
   "cell_type": "code",
   "execution_count": 11,
   "metadata": {},
   "outputs": [],
   "source": [
    "# Cell 1: Imports\n",
    "import numpy as np\n",
    "import torch\n",
    "import torch.nn as nn\n",
    "from torch.utils.data import DataLoader, Dataset\n",
    "import matplotlib.pyplot as plt\n",
    "from sklearn import metrics\n",
    "import os\n",
    "import pandas as pd"
   ]
  },
  {
   "cell_type": "code",
   "execution_count": 12,
   "metadata": {},
   "outputs": [],
   "source": [
    "# Cell 2: Load model architecture\n",
    "class Residual(nn.Module):\n",
    "    def __init__(self, fn):\n",
    "        super().__init__()\n",
    "        self.fn = fn\n",
    "\n",
    "    def forward(self, x):\n",
    "        return self.fn(x) + x\n",
    "\n",
    "def ConvMixer(dim, depth, kernel_size=9, patch_size=7, n_classes=12):\n",
    "    return nn.Sequential(\n",
    "        nn.Conv2d(1, dim, kernel_size=patch_size, stride=patch_size),\n",
    "        nn.GELU(),\n",
    "        nn.BatchNorm2d(dim),\n",
    "        *[nn.Sequential(\n",
    "            Residual(nn.Sequential(\n",
    "                nn.Conv2d(dim, dim, kernel_size=kernel_size, groups=dim, padding=\"same\"),\n",
    "                nn.GELU(),\n",
    "                nn.BatchNorm2d(dim)\n",
    "            )),\n",
    "            nn.Conv2d(dim, dim, kernel_size=1),\n",
    "            nn.GELU(),\n",
    "            nn.BatchNorm2d(dim)\n",
    "        ) for i in range(depth)],\n",
    "        nn.AdaptiveAvgPool2d((1, 1)),\n",
    "        nn.Flatten(),\n",
    "        nn.Linear(dim, n_classes)\n",
    "    )"
   ]
  },
  {
   "cell_type": "code",
   "execution_count": null,
   "metadata": {},
   "outputs": [],
   "source": [
    "# Cell 3: Load and prepare model\n",
    "# Khởi tạo model\n",
    "model = ConvMixer(dim=256, depth=8, n_classes=12)\n",
    "\n",
    "# Load weights\n",
    "model.load_state_dict(torch.load('../data/models/audio_classifier_best.pth'))\n",
    "\n",
    "# Chuyển model lên device\n",
    "device = torch.device('cuda' if torch.cuda.is_available() else 'cpu')\n",
    "model = model.to(device)\n",
    "model.eval()\n",
    "\n",
    "print(f\"Model loaded successfully!\")\n",
    "print(f\"Using device: {device}\")"
   ]
  },
  {
   "cell_type": "code",
   "execution_count": 14,
   "metadata": {},
   "outputs": [],
   "source": [
    "# Cell 4: Define prediction function\n",
    "def predict_single_file(model, file_path, transform=None):\n",
    "    \"\"\"Dự đoán cho một file âm thanh\"\"\"\n",
    "    # Load và preprocess file\n",
    "    features = np.load(file_path)\n",
    "    if len(features.shape) == 2:\n",
    "        features = np.expand_dims(features, axis=0)\n",
    "    \n",
    "    if transform:\n",
    "        features = transform(features)\n",
    "    \n",
    "    # Chuyển đổi thành tensor và thêm batch dimension\n",
    "    features = torch.FloatTensor(features)\n",
    "    if features.dim() == 3:\n",
    "        features = features.unsqueeze(0)  # Thêm batch dimension nếu cần\n",
    "    features = features.to(device)\n",
    "    \n",
    "    # Dự đoán\n",
    "    with torch.no_grad():\n",
    "        outputs = model(features)\n",
    "        probabilities = torch.softmax(outputs, dim=1)\n",
    "        predicted_class = torch.argmax(outputs, dim=1).item()\n",
    "        confidence = probabilities[0][predicted_class].item()\n",
    "    \n",
    "    return predicted_class, confidence, probabilities[0]"
   ]
  },
  {
   "cell_type": "code",
   "execution_count": null,
   "metadata": {},
   "outputs": [],
   "source": [
    "# Cell 5: Test with a single file\n",
    "# Định nghĩa classes\n",
    "classes = ['bat_den', 'bat_dieu_hoa', 'bat_quat', 'bat_tv',\n",
    "           'do_am', 'dong_rem', 'mo_rem', 'nhiet_do',\n",
    "           'tat_den', 'tat_dieu_hoa', 'tat_quat', 'tat_tv']\n",
    "\n",
    "# Test với một file cụ thể\n",
    "test_file_path = '../data/features/mel/bat_tv/bat_tv_speaker01_019.npy'\n",
    "predicted_class, confidence, all_probabilities = predict_single_file(model, test_file_path)\n",
    "\n",
    "print(f\"Predicted class: {classes[predicted_class]}\")\n",
    "print(f\"Confidence: {confidence:.2%}\")\n",
    "\n",
    "# Hiển thị top 3 predictions\n",
    "top3_prob, top3_indices = torch.topk(all_probabilities, 3)\n",
    "print(\"\\nTop 3 predictions:\")\n",
    "for prob, idx in zip(top3_prob, top3_indices):\n",
    "    print(f\"{classes[idx]}: {prob:.2%}\")"
   ]
  }
 ],
 "metadata": {
  "kernelspec": {
   "display_name": ".env",
   "language": "python",
   "name": "python3"
  },
  "language_info": {
   "codemirror_mode": {
    "name": "ipython",
    "version": 3
   },
   "file_extension": ".py",
   "mimetype": "text/x-python",
   "name": "python",
   "nbconvert_exporter": "python",
   "pygments_lexer": "ipython3",
   "version": "3.11.0"
  }
 },
 "nbformat": 4,
 "nbformat_minor": 2
}
