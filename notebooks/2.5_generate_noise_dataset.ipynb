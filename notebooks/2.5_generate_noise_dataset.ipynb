{
 "cells": [
  {
   "cell_type": "code",
   "execution_count": 1,
   "metadata": {},
   "outputs": [
    {
     "name": "stderr",
     "output_type": "stream",
     "text": [
      "Processing background files: 100%|██████████| 6/6 [00:00<00:00,  9.00it/s]\n",
      "Saving unknown segments: 100%|██████████| 150/150 [00:00<00:00, 33470.53it/s]"
     ]
    },
    {
     "name": "stdout",
     "output_type": "stream",
     "text": [
      "✅ Đã tạo 150 file noise trong ../data/processed/unknown\n"
     ]
    },
    {
     "name": "stderr",
     "output_type": "stream",
     "text": [
      "\n"
     ]
    }
   ],
   "source": [
    "import os\n",
    "import numpy as np\n",
    "import webrtcvad\n",
    "import noisereduce as nr\n",
    "from scipy.io import wavfile\n",
    "from pydub import AudioSegment\n",
    "import librosa\n",
    "from tqdm import tqdm\n",
    "\n",
    "class AudioPreprocessor:\n",
    "    def __init__(self):\n",
    "        self.vad = webrtcvad.Vad(2)\n",
    "        self.target_sr = 16000\n",
    "        self.frame_duration_ms = 30\n",
    "        \n",
    "    def load_audio(self, input_path):\n",
    "        \"\"\"Load and convert audio to mono 16kHz\"\"\"\n",
    "        audio = AudioSegment.from_wav(input_path).set_channels(1).set_frame_rate(self.target_sr)\n",
    "        raw_audio = np.array(audio.get_array_of_samples())\n",
    "        rate = audio.frame_rate\n",
    "        return raw_audio, rate\n",
    "        \n",
    "    def denoise(self, audio, sr):\n",
    "        \"\"\"Apply noise reduction\"\"\"\n",
    "        denoised = nr.reduce_noise(y=audio.astype(np.float32), sr=sr)\n",
    "        if sr != self.target_sr:\n",
    "            denoised = librosa.resample(denoised, orig_sr=sr, target_sr=self.target_sr)\n",
    "        return denoised, self.target_sr\n",
    "        \n",
    "    def apply_vad(self, audio, sr):\n",
    "        \"\"\"Apply Voice Activity Detection\"\"\"\n",
    "        frame_length = int(sr * self.frame_duration_ms / 1000)\n",
    "        frames = [audio[i:i+frame_length] for i in range(0, len(audio) - frame_length, frame_length)]\n",
    "\n",
    "        def is_speech(frame):\n",
    "            int16_frame = (frame * 32768).astype(np.int16)\n",
    "            return self.vad.is_speech(int16_frame.tobytes(), sr)\n",
    "\n",
    "        flags = [is_speech(frame) for frame in frames]\n",
    "        speech_mask = np.repeat(flags, frame_length)\n",
    "        speech_mask = np.pad(speech_mask, (0, len(audio) - len(speech_mask)), mode='constant')\n",
    "        return audio * speech_mask\n",
    "        \n",
    "    def normalize_audio(self, audio):\n",
    "        \"\"\"Apply peak normalization\"\"\"\n",
    "        max_val = np.max(np.abs(audio))\n",
    "        if max_val > 0:\n",
    "            audio = audio / max_val * 0.99\n",
    "        return (audio * 32767).astype(np.int16)\n",
    "\n",
    "# Cấu hình\n",
    "background_noise_dir = '../data/_background_noise_'\n",
    "output_dir = '../data/processed/unknown'\n",
    "os.makedirs(output_dir, exist_ok=True)\n",
    "\n",
    "# Số lượng file cần tạo\n",
    "num_output_files = 150\n",
    "\n",
    "# Khởi tạo preprocessor\n",
    "processor = AudioPreprocessor()\n",
    "\n",
    "# Danh sách file background noise\n",
    "background_files = [f for f in os.listdir(background_noise_dir) if f.endswith('.wav')]\n",
    "\n",
    "# Đọc và xử lý tất cả background audio\n",
    "background_segments = []\n",
    "for fname in tqdm(background_files, desc=\"Processing background files\"):\n",
    "    path = os.path.join(background_noise_dir, fname)\n",
    "    samples, sr = librosa.load(path, sr=16000)\n",
    "    \n",
    "    # Chỉ lấy 1 đoạn 1s ngẫu nhiên từ mỗi file\n",
    "    if len(samples) >= sr:  # Đảm bảo file đủ dài 1s\n",
    "        # Chọn vị trí bắt đầu ngẫu nhiên\n",
    "        max_start = len(samples) - sr\n",
    "        start_idx = np.random.randint(0, max_start + 1)\n",
    "        segment = samples[start_idx:start_idx + sr]\n",
    "        \n",
    "        # Áp dụng tiền xử lý\n",
    "        segment = processor.normalize_audio(segment)\n",
    "        background_segments.append(segment)\n",
    "\n",
    "# Nếu số lượng segment ít hơn num_output_files, lặp lại cho đủ\n",
    "while len(background_segments) < num_output_files:\n",
    "    # Chọn ngẫu nhiên một file\n",
    "    fname = np.random.choice(background_files)\n",
    "    path = os.path.join(background_noise_dir, fname)\n",
    "    samples, sr = librosa.load(path, sr=16000)\n",
    "    \n",
    "    if len(samples) >= sr:\n",
    "        max_start = len(samples) - sr\n",
    "        start_idx = np.random.randint(0, max_start + 1)\n",
    "        segment = samples[start_idx:start_idx + sr]\n",
    "        segment = processor.normalize_audio(segment)\n",
    "        background_segments.append(segment)\n",
    "\n",
    "# Ghi ra file\n",
    "for idx, segment in enumerate(tqdm(background_segments, desc=\"Saving unknown segments\")):\n",
    "    output_path = os.path.join(output_dir, f\"noise_{idx}.wav\")\n",
    "    wavfile.write(output_path, processor.target_sr, segment)\n",
    "\n",
    "print(f\"✅ Đã tạo {len(background_segments)} file noise trong {output_dir}\")"
   ]
  }
 ],
 "metadata": {
  "kernelspec": {
   "display_name": ".env",
   "language": "python",
   "name": "python3"
  },
  "language_info": {
   "codemirror_mode": {
    "name": "ipython",
    "version": 3
   },
   "file_extension": ".py",
   "mimetype": "text/x-python",
   "name": "python",
   "nbconvert_exporter": "python",
   "pygments_lexer": "ipython3",
   "version": "3.11.0"
  }
 },
 "nbformat": 4,
 "nbformat_minor": 2
}
